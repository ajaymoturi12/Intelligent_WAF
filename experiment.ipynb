{
 "cells": [
  {
   "cell_type": "markdown",
   "metadata": {},
   "source": [
    "Intelligent Web Application Firewall\n",
    "====================================\n",
    "This project is based on data from the ECML/PKDD 2007 Challenge and CSIC 2010 Dataset, [available on GitHub](https://github.com/msudol/Web-Application-Attack-Datasets/blob/master/CSVData/csic_ecml_normalized_final.csv)."
   ]
  },
  {
   "cell_type": "markdown",
   "metadata": {},
   "source": [
    "# Install Dependencies\n",
    "* [user-agents](https://pypi.org/project/user-agents/) is required to parse user agents."
   ]
  },
  {
   "cell_type": "markdown",
   "metadata": {},
   "source": [
    "```bash\n",
    "pip3 install pyyaml ua-parser user-agents\n",
    "```"
   ]
  },
  {
   "cell_type": "markdown",
   "metadata": {},
   "source": [
    "# Configure\n",
    "Initially setup this experiment. For the sake of making setup faster, we will go ahead and download the dataset if it does not already exist on our system. For now, we'll download it off of [msudol/Web-Application-Attack-Datasets](https://github.com/msudol/Web-Application-Attack-Datasets) on GitHub."
   ]
  },
  {
   "cell_type": "code",
   "execution_count": 225,
   "metadata": {},
   "outputs": [],
   "source": [
    "DATASET_URL = 'https://raw.githubusercontent.com/msudol/Web-Application-Attack-Datasets/master/CSVData/csic_ecml_normalized_final.csv'"
   ]
  },
  {
   "cell_type": "markdown",
   "metadata": {},
   "source": [
    "Enabling `DEBUG` will make a lot of messages!"
   ]
  },
  {
   "cell_type": "code",
   "execution_count": 226,
   "metadata": {},
   "outputs": [],
   "source": [
    "DEBUG = True"
   ]
  },
  {
   "cell_type": "markdown",
   "metadata": {},
   "source": [
    "## Normalized Data Caching\n",
    "We're going to cache the pre-processed data to avoid having to process it repeatedly. Set the `NORMALIZATION_VERSION` below accordingly to use a particular version of the normalized dataset. If it is set to `None`, we'll assume that pre-processing is still a work in progress and to continuously do pre-processing again (you should probably change this eventually). Note that this value will get automatically overridden if set to `None`, so you'll need to run these blocks again if you want data to be pre-processed again!\n",
    "\n",
    "Note that even if there's a cached version available, we'll always keep a version of the original data (kinda just for the sake of it).\n",
    "\n",
    "Also, if you *really* hate caching, just turn off saving..."
   ]
  },
  {
   "cell_type": "code",
   "execution_count": 227,
   "metadata": {},
   "outputs": [],
   "source": [
    "NORMALIZATION_VERSION = None\n",
    "SAVE_NORMALIZED = True"
   ]
  },
  {
   "cell_type": "markdown",
   "metadata": {},
   "source": [
    "Now to get things done! This code block will automatically download the dataset if needed and set up our experiment."
   ]
  },
  {
   "cell_type": "code",
   "execution_count": 228,
   "metadata": {},
   "outputs": [
    {
     "name": "stdout",
     "output_type": "stream",
     "text": [
      "[✅] Dataset Directory Exists\n",
      "[✅] Normalized Dataset Directory Exists\n",
      "[✅] Dataset Exists\n"
     ]
    }
   ],
   "source": [
    "import pathlib\n",
    "import urllib.request\n",
    "\n",
    "DATASET_DIRECTORY_PATH = pathlib.Path('dataset')\n",
    "DATASET_NORMALIZED_DIRECTORY_PATH = DATASET_DIRECTORY_PATH.joinpath('normalized')\n",
    "DATASET_RAW_PATH = DATASET_DIRECTORY_PATH.joinpath('dataset.csv')\n",
    "\n",
    "\n",
    "if DATASET_DIRECTORY_PATH.is_dir():\n",
    "    print('[✅] Dataset Directory Exists')\n",
    "else:\n",
    "    print('[~] Creating Dataset Directory')\n",
    "    DATASET_DIRECTORY_PATH.mkdir(parents=True, exist_ok=True)\n",
    "\n",
    "if DATASET_NORMALIZED_DIRECTORY_PATH.is_dir():\n",
    "    print('[✅] Normalized Dataset Directory Exists')\n",
    "else:\n",
    "    print('[~] Creating Normalized Dataset Directory')\n",
    "    DATASET_NORMALIZED_DIRECTORY_PATH.mkdir(parents=True, exist_ok=True)\n",
    "\n",
    "if DATASET_RAW_PATH.is_file():\n",
    "    print('[✅] Dataset Exists')\n",
    "else:\n",
    "    print(f'[~] Downloading Dataset')\n",
    "    urllib.request.urlretrieve(DATASET_URL, DATASET_RAW_PATH)\n",
    "\n",
    "    if DATASET_RAW_PATH.is_file():\n",
    "        print(f'[✅] Dataset Available at {DATASET_RAW_PATH}')\n",
    "    else:\n",
    "        print('[⚠️] Failed to Download Dataset')\n",
    "        raise SystemExit('Dataset Download Failure')"
   ]
  },
  {
   "cell_type": "markdown",
   "metadata": {},
   "source": [
    "A few quick functions to help us out!"
   ]
  },
  {
   "cell_type": "code",
   "execution_count": 229,
   "metadata": {},
   "outputs": [],
   "source": [
    "def debug(message):\n",
    "    if DEBUG:\n",
    "        print(message)"
   ]
  },
  {
   "cell_type": "markdown",
   "metadata": {},
   "source": [
    "Now, lets figure out our caching situation."
   ]
  },
  {
   "cell_type": "code",
   "execution_count": 230,
   "metadata": {},
   "outputs": [],
   "source": [
    "effective_cache_path: pathlib.Path = None\n",
    "if NORMALIZATION_VERSION is None:\n",
    "    # Figure out the next normalization version...\n",
    "    i = 0\n",
    "    while True:\n",
    "        proposed_path = DATASET_NORMALIZED_DIRECTORY_PATH.joinpath(f'{i}.csv')\n",
    "        if not proposed_path.exists():\n",
    "            effective_cache_path = proposed_path\n",
    "            NORMALIZATION_VERSION = i\n",
    "            break\n",
    "\n",
    "        i += 1\n",
    "else:\n",
    "    effective_cache_path = DATASET_NORMALIZED_DIRECTORY_PATH.joinpath(f'{int(NORMALIZATION_VERSION)}.csv')"
   ]
  },
  {
   "cell_type": "markdown",
   "metadata": {},
   "source": [
    "Caching path has been figured out! Time to actually normalize..."
   ]
  },
  {
   "cell_type": "code",
   "execution_count": 231,
   "metadata": {},
   "outputs": [],
   "source": [
    "ENUMERATIONS = {\n",
    "    'Class': {'Valid': 0, 'Anomalous': 1},\n",
    "    'Method': {'GET': 0, 'POST': 1, 'PUT': 2},\n",
    "    'Host-Header': {'HTTP/1.0': 0, 'HTTP/1.1': 1},\n",
    "    'Connection': {'keep-alive': 0, 'close': 1, 'invalid': 2, None: 3},\n",
    "    'Pragma': {'no-cache': 0, 'invalid': 1, None: 2},\n",
    "    'Content-Type': {'application/x-www-form-urlencoded': 0, None: 1}\n",
    "}\n",
    "\n",
    "LENGTH_FIELDS = {\n",
    "    'Accept': 'Accept-Length',\n",
    "    'Accept-Charset': 'Accept-Charset-Length',\n",
    "    'Accept-Language': 'Accept-Language-Length',\n",
    "    'User-Agent': 'User-Agent-Length',\n",
    "    'Content-Type': 'Content-Type-Length',\n",
    "    'POST-Data': 'POST-Data-Length',\n",
    "    'GET-Query': 'GET-Query-Length'\n",
    "}"
   ]
  },
  {
   "cell_type": "code",
   "execution_count": 232,
   "metadata": {},
   "outputs": [],
   "source": [
    "import pandas as pd\n",
    "import math\n",
    "from urllib.parse import parse_qs\n",
    "\n",
    "def enumerate(df):\n",
    "    for field, enumeration in ENUMERATIONS.items():\n",
    "        debug(f'[~] Processing Field: {field}')\n",
    "        if field not in df:\n",
    "            raise RuntimeWarning(f'Field {field} Does Not Exist')\n",
    "        \n",
    "        unenumerated_values = set(df[field].unique()).difference(set(enumeration.keys()))\n",
    "        for unenumerated_value in unenumerated_values:\n",
    "            if math.isnan(unenumerated_value) and None in enumeration:\n",
    "                continue\n",
    "            \n",
    "            raise RuntimeWarning(f'Failed to Enumerate Value \"{unenumerated_value}\" for Field {field}')\n",
    "        \n",
    "        if None in enumeration:\n",
    "            df[field] = df[field].map(enumeration).fillna(enumeration[None]).astype(int)\n",
    "        else:\n",
    "            df[field] = df[field].map(enumeration).astype(int)\n",
    "        \n",
    "    return df\n",
    "\n",
    "def length_append(df):\n",
    "    for field, target in LENGTH_FIELDS.items():\n",
    "        debug(f'[~] Processing Field: {field}')\n",
    "        if field not in df:\n",
    "            raise RuntimeWarning(f'Field {field} Does Not Exist')\n",
    "        \n",
    "        df[target] = df[field].map(lambda v: len(v) if type(v) is str else 0)\n",
    "\n",
    "    return df\n",
    "\n",
    "def __query_param_count(df):\n",
    "    df['GET-Query-Params'] = df['GET-Query'].map(lambda q: len(parse_qs(q).keys()) if type(q) is str else 0)\n",
    "\n",
    "def __query_characters(df):\n",
    "    CHARACTERS = [chr(o) for o in range(32, 127)]\n",
    "    for letter in CHARACTERS:\n",
    "        df[f'Letter-Frequency-{letter}'] = df['GET-Query'].apply(lambda q: q.count(letter) if type(q) is str else 0)\n",
    "\n",
    "def parse_query(df):\n",
    "    __query_param_count(df)\n",
    "    __query_characters(df)\n",
    "\n",
    "    return df\n",
    "\n",
    "\n",
    "def preprocess(path):\n",
    "    df = parse_query(length_append(enumerate(pd.read_csv(path))))\n",
    "\n",
    "    return df"
   ]
  },
  {
   "cell_type": "code",
   "execution_count": 233,
   "metadata": {},
   "outputs": [
    {
     "name": "stdout",
     "output_type": "stream",
     "text": [
      "[~] Processing Field: Class\n",
      "[~] Processing Field: Method\n",
      "[~] Processing Field: Host-Header\n",
      "[~] Processing Field: Connection\n",
      "[~] Processing Field: Pragma\n",
      "[~] Processing Field: Content-Type\n",
      "[~] Processing Field: Accept\n",
      "[~] Processing Field: Accept-Charset\n",
      "[~] Processing Field: Accept-Language\n",
      "[~] Processing Field: User-Agent\n",
      "[~] Processing Field: Content-Type\n",
      "[~] Processing Field: POST-Data\n",
      "[~] Processing Field: GET-Query\n"
     ]
    },
    {
     "ename": "AttributeError",
     "evalue": "'float' object has no attribute 'count'",
     "output_type": "error",
     "traceback": [
      "\u001b[0;31m---------------------------------------------------------------------------\u001b[0m",
      "\u001b[0;31mAttributeError\u001b[0m                            Traceback (most recent call last)",
      "Cell \u001b[0;32mIn[233], line 6\u001b[0m\n\u001b[1;32m      3\u001b[0m     data \u001b[38;5;241m=\u001b[39m pd\u001b[38;5;241m.\u001b[39mread_csv(effective_cache_path)\n\u001b[1;32m      4\u001b[0m \u001b[38;5;28;01melse\u001b[39;00m:\n\u001b[1;32m      5\u001b[0m     \u001b[38;5;66;03m# We're going to need to do some pre-processing!\u001b[39;00m\n\u001b[0;32m----> 6\u001b[0m     data \u001b[38;5;241m=\u001b[39m \u001b[43mpreprocess\u001b[49m\u001b[43m(\u001b[49m\u001b[43mDATASET_RAW_PATH\u001b[49m\u001b[43m)\u001b[49m\n\u001b[1;32m      8\u001b[0m     \u001b[38;5;28;01mif\u001b[39;00m SAVE_NORMALIZED:\n\u001b[1;32m      9\u001b[0m         data\u001b[38;5;241m.\u001b[39mto_csv(effective_cache_path)\n",
      "Cell \u001b[0;32mIn[232], line 51\u001b[0m, in \u001b[0;36mpreprocess\u001b[0;34m(path)\u001b[0m\n\u001b[1;32m     50\u001b[0m \u001b[38;5;28;01mdef\u001b[39;00m \u001b[38;5;21mpreprocess\u001b[39m(path):\n\u001b[0;32m---> 51\u001b[0m     df \u001b[38;5;241m=\u001b[39m \u001b[43mparse_query\u001b[49m\u001b[43m(\u001b[49m\u001b[43mlength_append\u001b[49m\u001b[43m(\u001b[49m\u001b[38;5;28;43menumerate\u001b[39;49m\u001b[43m(\u001b[49m\u001b[43mpd\u001b[49m\u001b[38;5;241;43m.\u001b[39;49m\u001b[43mread_csv\u001b[49m\u001b[43m(\u001b[49m\u001b[43mpath\u001b[49m\u001b[43m)\u001b[49m\u001b[43m)\u001b[49m\u001b[43m)\u001b[49m\u001b[43m)\u001b[49m\n\u001b[1;32m     53\u001b[0m     \u001b[38;5;28;01mreturn\u001b[39;00m df\n",
      "Cell \u001b[0;32mIn[232], line 45\u001b[0m, in \u001b[0;36mparse_query\u001b[0;34m(df)\u001b[0m\n\u001b[1;32m     43\u001b[0m \u001b[38;5;28;01mdef\u001b[39;00m \u001b[38;5;21mparse_query\u001b[39m(df):\n\u001b[1;32m     44\u001b[0m     __query_param_count(df)\n\u001b[0;32m---> 45\u001b[0m     \u001b[43m__query_characters\u001b[49m\u001b[43m(\u001b[49m\u001b[43mdf\u001b[49m\u001b[43m)\u001b[49m\n\u001b[1;32m     47\u001b[0m     \u001b[38;5;28;01mreturn\u001b[39;00m df\n",
      "Cell \u001b[0;32mIn[232], line 41\u001b[0m, in \u001b[0;36m__query_characters\u001b[0;34m(df)\u001b[0m\n\u001b[1;32m     39\u001b[0m CHARACTERS \u001b[38;5;241m=\u001b[39m [\u001b[38;5;28mchr\u001b[39m(o) \u001b[38;5;28;01mfor\u001b[39;00m o \u001b[38;5;129;01min\u001b[39;00m \u001b[38;5;28mrange\u001b[39m(\u001b[38;5;241m32\u001b[39m, \u001b[38;5;241m127\u001b[39m)]\n\u001b[1;32m     40\u001b[0m \u001b[38;5;28;01mfor\u001b[39;00m letter \u001b[38;5;129;01min\u001b[39;00m CHARACTERS:\n\u001b[0;32m---> 41\u001b[0m     df[\u001b[38;5;124mf\u001b[39m\u001b[38;5;124m'\u001b[39m\u001b[38;5;124mLetter-Frequency-\u001b[39m\u001b[38;5;132;01m{\u001b[39;00mletter\u001b[38;5;132;01m}\u001b[39;00m\u001b[38;5;124m'\u001b[39m] \u001b[38;5;241m=\u001b[39m \u001b[43mdf\u001b[49m\u001b[43m[\u001b[49m\u001b[38;5;124;43m'\u001b[39;49m\u001b[38;5;124;43mGET-Query\u001b[39;49m\u001b[38;5;124;43m'\u001b[39;49m\u001b[43m]\u001b[49m\u001b[38;5;241;43m.\u001b[39;49m\u001b[43mapply\u001b[49m\u001b[43m(\u001b[49m\u001b[38;5;28;43;01mlambda\u001b[39;49;00m\u001b[43m \u001b[49m\u001b[43mq\u001b[49m\u001b[43m:\u001b[49m\u001b[43m \u001b[49m\u001b[43mq\u001b[49m\u001b[38;5;241;43m.\u001b[39;49m\u001b[43mcount\u001b[49m\u001b[43m(\u001b[49m\u001b[43mletter\u001b[49m\u001b[43m)\u001b[49m\u001b[43m)\u001b[49m\n",
      "File \u001b[0;32m/usr/local/lib/python3.11/site-packages/pandas/core/series.py:4915\u001b[0m, in \u001b[0;36mSeries.apply\u001b[0;34m(self, func, convert_dtype, args, by_row, **kwargs)\u001b[0m\n\u001b[1;32m   4780\u001b[0m \u001b[38;5;28;01mdef\u001b[39;00m \u001b[38;5;21mapply\u001b[39m(\n\u001b[1;32m   4781\u001b[0m     \u001b[38;5;28mself\u001b[39m,\n\u001b[1;32m   4782\u001b[0m     func: AggFuncType,\n\u001b[0;32m   (...)\u001b[0m\n\u001b[1;32m   4787\u001b[0m     \u001b[38;5;241m*\u001b[39m\u001b[38;5;241m*\u001b[39mkwargs,\n\u001b[1;32m   4788\u001b[0m ) \u001b[38;5;241m-\u001b[39m\u001b[38;5;241m>\u001b[39m DataFrame \u001b[38;5;241m|\u001b[39m Series:\n\u001b[1;32m   4789\u001b[0m \u001b[38;5;250m    \u001b[39m\u001b[38;5;124;03m\"\"\"\u001b[39;00m\n\u001b[1;32m   4790\u001b[0m \u001b[38;5;124;03m    Invoke function on values of Series.\u001b[39;00m\n\u001b[1;32m   4791\u001b[0m \n\u001b[0;32m   (...)\u001b[0m\n\u001b[1;32m   4906\u001b[0m \u001b[38;5;124;03m    dtype: float64\u001b[39;00m\n\u001b[1;32m   4907\u001b[0m \u001b[38;5;124;03m    \"\"\"\u001b[39;00m\n\u001b[1;32m   4908\u001b[0m     \u001b[38;5;28;01mreturn\u001b[39;00m \u001b[43mSeriesApply\u001b[49m\u001b[43m(\u001b[49m\n\u001b[1;32m   4909\u001b[0m \u001b[43m        \u001b[49m\u001b[38;5;28;43mself\u001b[39;49m\u001b[43m,\u001b[49m\n\u001b[1;32m   4910\u001b[0m \u001b[43m        \u001b[49m\u001b[43mfunc\u001b[49m\u001b[43m,\u001b[49m\n\u001b[1;32m   4911\u001b[0m \u001b[43m        \u001b[49m\u001b[43mconvert_dtype\u001b[49m\u001b[38;5;241;43m=\u001b[39;49m\u001b[43mconvert_dtype\u001b[49m\u001b[43m,\u001b[49m\n\u001b[1;32m   4912\u001b[0m \u001b[43m        \u001b[49m\u001b[43mby_row\u001b[49m\u001b[38;5;241;43m=\u001b[39;49m\u001b[43mby_row\u001b[49m\u001b[43m,\u001b[49m\n\u001b[1;32m   4913\u001b[0m \u001b[43m        \u001b[49m\u001b[43margs\u001b[49m\u001b[38;5;241;43m=\u001b[39;49m\u001b[43margs\u001b[49m\u001b[43m,\u001b[49m\n\u001b[1;32m   4914\u001b[0m \u001b[43m        \u001b[49m\u001b[43mkwargs\u001b[49m\u001b[38;5;241;43m=\u001b[39;49m\u001b[43mkwargs\u001b[49m\u001b[43m,\u001b[49m\n\u001b[0;32m-> 4915\u001b[0m \u001b[43m    \u001b[49m\u001b[43m)\u001b[49m\u001b[38;5;241;43m.\u001b[39;49m\u001b[43mapply\u001b[49m\u001b[43m(\u001b[49m\u001b[43m)\u001b[49m\n",
      "File \u001b[0;32m/usr/local/lib/python3.11/site-packages/pandas/core/apply.py:1427\u001b[0m, in \u001b[0;36mSeriesApply.apply\u001b[0;34m(self)\u001b[0m\n\u001b[1;32m   1424\u001b[0m     \u001b[38;5;28;01mreturn\u001b[39;00m \u001b[38;5;28mself\u001b[39m\u001b[38;5;241m.\u001b[39mapply_compat()\n\u001b[1;32m   1426\u001b[0m \u001b[38;5;66;03m# self.func is Callable\u001b[39;00m\n\u001b[0;32m-> 1427\u001b[0m \u001b[38;5;28;01mreturn\u001b[39;00m \u001b[38;5;28;43mself\u001b[39;49m\u001b[38;5;241;43m.\u001b[39;49m\u001b[43mapply_standard\u001b[49m\u001b[43m(\u001b[49m\u001b[43m)\u001b[49m\n",
      "File \u001b[0;32m/usr/local/lib/python3.11/site-packages/pandas/core/apply.py:1507\u001b[0m, in \u001b[0;36mSeriesApply.apply_standard\u001b[0;34m(self)\u001b[0m\n\u001b[1;32m   1501\u001b[0m \u001b[38;5;66;03m# row-wise access\u001b[39;00m\n\u001b[1;32m   1502\u001b[0m \u001b[38;5;66;03m# apply doesn't have a `na_action` keyword and for backward compat reasons\u001b[39;00m\n\u001b[1;32m   1503\u001b[0m \u001b[38;5;66;03m# we need to give `na_action=\"ignore\"` for categorical data.\u001b[39;00m\n\u001b[1;32m   1504\u001b[0m \u001b[38;5;66;03m# TODO: remove the `na_action=\"ignore\"` when that default has been changed in\u001b[39;00m\n\u001b[1;32m   1505\u001b[0m \u001b[38;5;66;03m#  Categorical (GH51645).\u001b[39;00m\n\u001b[1;32m   1506\u001b[0m action \u001b[38;5;241m=\u001b[39m \u001b[38;5;124m\"\u001b[39m\u001b[38;5;124mignore\u001b[39m\u001b[38;5;124m\"\u001b[39m \u001b[38;5;28;01mif\u001b[39;00m \u001b[38;5;28misinstance\u001b[39m(obj\u001b[38;5;241m.\u001b[39mdtype, CategoricalDtype) \u001b[38;5;28;01melse\u001b[39;00m \u001b[38;5;28;01mNone\u001b[39;00m\n\u001b[0;32m-> 1507\u001b[0m mapped \u001b[38;5;241m=\u001b[39m \u001b[43mobj\u001b[49m\u001b[38;5;241;43m.\u001b[39;49m\u001b[43m_map_values\u001b[49m\u001b[43m(\u001b[49m\n\u001b[1;32m   1508\u001b[0m \u001b[43m    \u001b[49m\u001b[43mmapper\u001b[49m\u001b[38;5;241;43m=\u001b[39;49m\u001b[43mcurried\u001b[49m\u001b[43m,\u001b[49m\u001b[43m \u001b[49m\u001b[43mna_action\u001b[49m\u001b[38;5;241;43m=\u001b[39;49m\u001b[43maction\u001b[49m\u001b[43m,\u001b[49m\u001b[43m \u001b[49m\u001b[43mconvert\u001b[49m\u001b[38;5;241;43m=\u001b[39;49m\u001b[38;5;28;43mself\u001b[39;49m\u001b[38;5;241;43m.\u001b[39;49m\u001b[43mconvert_dtype\u001b[49m\n\u001b[1;32m   1509\u001b[0m \u001b[43m\u001b[49m\u001b[43m)\u001b[49m\n\u001b[1;32m   1511\u001b[0m \u001b[38;5;28;01mif\u001b[39;00m \u001b[38;5;28mlen\u001b[39m(mapped) \u001b[38;5;129;01mand\u001b[39;00m \u001b[38;5;28misinstance\u001b[39m(mapped[\u001b[38;5;241m0\u001b[39m], ABCSeries):\n\u001b[1;32m   1512\u001b[0m     \u001b[38;5;66;03m# GH#43986 Need to do list(mapped) in order to get treated as nested\u001b[39;00m\n\u001b[1;32m   1513\u001b[0m     \u001b[38;5;66;03m#  See also GH#25959 regarding EA support\u001b[39;00m\n\u001b[1;32m   1514\u001b[0m     \u001b[38;5;28;01mreturn\u001b[39;00m obj\u001b[38;5;241m.\u001b[39m_constructor_expanddim(\u001b[38;5;28mlist\u001b[39m(mapped), index\u001b[38;5;241m=\u001b[39mobj\u001b[38;5;241m.\u001b[39mindex)\n",
      "File \u001b[0;32m/usr/local/lib/python3.11/site-packages/pandas/core/base.py:921\u001b[0m, in \u001b[0;36mIndexOpsMixin._map_values\u001b[0;34m(self, mapper, na_action, convert)\u001b[0m\n\u001b[1;32m    918\u001b[0m \u001b[38;5;28;01mif\u001b[39;00m \u001b[38;5;28misinstance\u001b[39m(arr, ExtensionArray):\n\u001b[1;32m    919\u001b[0m     \u001b[38;5;28;01mreturn\u001b[39;00m arr\u001b[38;5;241m.\u001b[39mmap(mapper, na_action\u001b[38;5;241m=\u001b[39mna_action)\n\u001b[0;32m--> 921\u001b[0m \u001b[38;5;28;01mreturn\u001b[39;00m \u001b[43malgorithms\u001b[49m\u001b[38;5;241;43m.\u001b[39;49m\u001b[43mmap_array\u001b[49m\u001b[43m(\u001b[49m\u001b[43marr\u001b[49m\u001b[43m,\u001b[49m\u001b[43m \u001b[49m\u001b[43mmapper\u001b[49m\u001b[43m,\u001b[49m\u001b[43m \u001b[49m\u001b[43mna_action\u001b[49m\u001b[38;5;241;43m=\u001b[39;49m\u001b[43mna_action\u001b[49m\u001b[43m,\u001b[49m\u001b[43m \u001b[49m\u001b[43mconvert\u001b[49m\u001b[38;5;241;43m=\u001b[39;49m\u001b[43mconvert\u001b[49m\u001b[43m)\u001b[49m\n",
      "File \u001b[0;32m/usr/local/lib/python3.11/site-packages/pandas/core/algorithms.py:1743\u001b[0m, in \u001b[0;36mmap_array\u001b[0;34m(arr, mapper, na_action, convert)\u001b[0m\n\u001b[1;32m   1741\u001b[0m values \u001b[38;5;241m=\u001b[39m arr\u001b[38;5;241m.\u001b[39mastype(\u001b[38;5;28mobject\u001b[39m, copy\u001b[38;5;241m=\u001b[39m\u001b[38;5;28;01mFalse\u001b[39;00m)\n\u001b[1;32m   1742\u001b[0m \u001b[38;5;28;01mif\u001b[39;00m na_action \u001b[38;5;129;01mis\u001b[39;00m \u001b[38;5;28;01mNone\u001b[39;00m:\n\u001b[0;32m-> 1743\u001b[0m     \u001b[38;5;28;01mreturn\u001b[39;00m \u001b[43mlib\u001b[49m\u001b[38;5;241;43m.\u001b[39;49m\u001b[43mmap_infer\u001b[49m\u001b[43m(\u001b[49m\u001b[43mvalues\u001b[49m\u001b[43m,\u001b[49m\u001b[43m \u001b[49m\u001b[43mmapper\u001b[49m\u001b[43m,\u001b[49m\u001b[43m \u001b[49m\u001b[43mconvert\u001b[49m\u001b[38;5;241;43m=\u001b[39;49m\u001b[43mconvert\u001b[49m\u001b[43m)\u001b[49m\n\u001b[1;32m   1744\u001b[0m \u001b[38;5;28;01melse\u001b[39;00m:\n\u001b[1;32m   1745\u001b[0m     \u001b[38;5;28;01mreturn\u001b[39;00m lib\u001b[38;5;241m.\u001b[39mmap_infer_mask(\n\u001b[1;32m   1746\u001b[0m         values, mapper, mask\u001b[38;5;241m=\u001b[39misna(values)\u001b[38;5;241m.\u001b[39mview(np\u001b[38;5;241m.\u001b[39muint8), convert\u001b[38;5;241m=\u001b[39mconvert\n\u001b[1;32m   1747\u001b[0m     )\n",
      "File \u001b[0;32mlib.pyx:2972\u001b[0m, in \u001b[0;36mpandas._libs.lib.map_infer\u001b[0;34m()\u001b[0m\n",
      "Cell \u001b[0;32mIn[232], line 41\u001b[0m, in \u001b[0;36m__query_characters.<locals>.<lambda>\u001b[0;34m(q)\u001b[0m\n\u001b[1;32m     39\u001b[0m CHARACTERS \u001b[38;5;241m=\u001b[39m [\u001b[38;5;28mchr\u001b[39m(o) \u001b[38;5;28;01mfor\u001b[39;00m o \u001b[38;5;129;01min\u001b[39;00m \u001b[38;5;28mrange\u001b[39m(\u001b[38;5;241m32\u001b[39m, \u001b[38;5;241m127\u001b[39m)]\n\u001b[1;32m     40\u001b[0m \u001b[38;5;28;01mfor\u001b[39;00m letter \u001b[38;5;129;01min\u001b[39;00m CHARACTERS:\n\u001b[0;32m---> 41\u001b[0m     df[\u001b[38;5;124mf\u001b[39m\u001b[38;5;124m'\u001b[39m\u001b[38;5;124mLetter-Frequency-\u001b[39m\u001b[38;5;132;01m{\u001b[39;00mletter\u001b[38;5;132;01m}\u001b[39;00m\u001b[38;5;124m'\u001b[39m] \u001b[38;5;241m=\u001b[39m df[\u001b[38;5;124m'\u001b[39m\u001b[38;5;124mGET-Query\u001b[39m\u001b[38;5;124m'\u001b[39m]\u001b[38;5;241m.\u001b[39mapply(\u001b[38;5;28;01mlambda\u001b[39;00m q: \u001b[43mq\u001b[49m\u001b[38;5;241;43m.\u001b[39;49m\u001b[43mcount\u001b[49m(letter))\n",
      "\u001b[0;31mAttributeError\u001b[0m: 'float' object has no attribute 'count'"
     ]
    }
   ],
   "source": [
    "data: pd.DataFrame = None\n",
    "if effective_cache_path.is_file():\n",
    "    data = pd.read_csv(effective_cache_path)\n",
    "else:\n",
    "    # We're going to need to do some pre-processing!\n",
    "    data = preprocess(DATASET_RAW_PATH)\n",
    "\n",
    "    if SAVE_NORMALIZED:\n",
    "        data.to_csv(effective_cache_path)"
   ]
  },
  {
   "cell_type": "markdown",
   "metadata": {},
   "source": [
    "Preview data!"
   ]
  },
  {
   "cell_type": "code",
   "execution_count": null,
   "metadata": {},
   "outputs": [
    {
     "name": "stdout",
     "output_type": "stream",
     "text": [
      "Sample Data:\n",
      "Class                                            1\n",
      "Method                                           0\n",
      "Host-Header                                      0\n",
      "Connection                                       2\n",
      "Accept                audio/*;q=0.7, audio/*;q=0.0\n",
      "                                  ...             \n",
      "Letter-Frequency-z                               3\n",
      "Letter-Frequency-{                               0\n",
      "Letter-Frequency-|                               0\n",
      "Letter-Frequency-}                               0\n",
      "Letter-Frequency-~                               0\n",
      "Name: 0, Length: 116, dtype: object\n"
     ]
    }
   ],
   "source": [
    "if DEBUG:\n",
    "    debug('Sample Data:')\n",
    "    debug(data.iloc[0])"
   ]
  },
  {
   "cell_type": "markdown",
   "metadata": {},
   "source": [
    "Let's check if we can enumerate even more."
   ]
  },
  {
   "cell_type": "code",
   "execution_count": null,
   "metadata": {},
   "outputs": [
    {
     "name": "stdout",
     "output_type": "stream",
     "text": [
      "Accept-Language May Be Enumerated with 14 Unique Values\n",
      "\t*;q=0.2, nan, *;q=0.1, *;q=0.9, non-standard, *;q=0.4, *;q=0.6, en, *;q=0.8, *;q=0.0, *;q=0.7, *, *;q=0.5, *;q=0.3\n",
      "\n",
      "[⚠️] Enumeration May be Incomplete: 1 May Be Enumerated\n"
     ]
    }
   ],
   "source": [
    "import numpy as np\n",
    "\n",
    "ENUM_THRESHOLD = 64\n",
    "enumerable = 0\n",
    "for field in data:\n",
    "    values = data[field].unique()\n",
    "    if len(values) < ENUM_THRESHOLD and len({value for value in values if type(value) != np.int64}) > 0:\n",
    "        print(f'{field} May Be Enumerated with {len(values)} Unique Values')\n",
    "        values_as_str = ', '.join({str(value) for value in values})\n",
    "        print(f'\\t{values_as_str}')\n",
    "        enumerable += 1\n",
    "\n",
    "print()\n",
    "if enumerable > 0:\n",
    "    print(f'[⚠️] Enumeration May be Incomplete: {enumerable} May Be Enumerated')\n",
    "else:\n",
    "    print(f'[✅] Sufficiently Enumerated with Threshold {ENUM_THRESHOLD}')"
   ]
  }
 ],
 "metadata": {
  "kernelspec": {
   "display_name": "Python 3",
   "language": "python",
   "name": "python3"
  },
  "language_info": {
   "codemirror_mode": {
    "name": "ipython",
    "version": 3
   },
   "file_extension": ".py",
   "mimetype": "text/x-python",
   "name": "python",
   "nbconvert_exporter": "python",
   "pygments_lexer": "ipython3",
   "version": "3.11.6"
  }
 },
 "nbformat": 4,
 "nbformat_minor": 2
}
