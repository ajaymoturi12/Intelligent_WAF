{
 "cells": [
  {
   "cell_type": "markdown",
   "metadata": {},
   "source": [
    "Intelligent Web Application Firewall\n",
    "====================================\n",
    "This project is based on data from the ECML/PKDD 2007 Challenge and CSIC 2010 Dataset, [available on GitHub](https://github.com/msudol/Web-Application-Attack-Datasets/blob/master/CSVData/csic_ecml_normalized_final.csv)."
   ]
  },
  {
   "cell_type": "markdown",
   "metadata": {},
   "source": [
    "# Configure\n",
    "Initially setup this experiment. For the sake of making setup faster, we will go ahead and download the dataset if it does not already exist on our system. For now, we'll download it off of [msudol/Web-Application-Attack-Datasets](https://github.com/msudol/Web-Application-Attack-Datasets) on GitHub."
   ]
  },
  {
   "cell_type": "code",
   "execution_count": 13,
   "metadata": {},
   "outputs": [],
   "source": [
    "DATASET_URL = 'https://raw.githubusercontent.com/msudol/Web-Application-Attack-Datasets/master/CSVData/csic_ecml_normalized_final.csv'"
   ]
  },
  {
   "cell_type": "markdown",
   "metadata": {},
   "source": [
    "## Normalized Data Caching\n",
    "We're going to cache the pre-processed data to avoid having to process it repeatedly. Set the `NORMALIZATION_VERSION` below accordingly to use a particular version of the normalized dataset. If it is set to `None`, we'll assume that pre-processing is still a work in progress and to continuously do pre-processing again (you should probably change this eventually). Note that this value will get automatically overridden if set to `None`, so you'll need to run these blocks again if you want data to be pre-processed again!\n",
    "\n",
    "Note that even if there's a cached version available, we'll always keep a version of the original data (kinda just for the sake of it)."
   ]
  },
  {
   "cell_type": "code",
   "execution_count": 14,
   "metadata": {},
   "outputs": [],
   "source": [
    "NORMALIZATION_VERSION = None"
   ]
  },
  {
   "cell_type": "markdown",
   "metadata": {},
   "source": [
    "Now to get things done! This code block will automatically download the dataset if needed and set up our experiment."
   ]
  },
  {
   "cell_type": "code",
   "execution_count": 15,
   "metadata": {},
   "outputs": [
    {
     "name": "stdout",
     "output_type": "stream",
     "text": [
      "[✅] Dataset Directory Exists\n",
      "[✅] Normalized Dataset Directory Exists\n",
      "[✅] Dataset Exists\n"
     ]
    }
   ],
   "source": [
    "import pathlib\n",
    "import urllib.request\n",
    "\n",
    "DATASET_DIRECTORY_PATH = pathlib.Path('dataset')\n",
    "DATASET_NORMALIZED_DIRECTORY_PATH = DATASET_DIRECTORY_PATH.joinpath('normalized')\n",
    "DATASET_RAW_PATH = DATASET_DIRECTORY_PATH.joinpath('dataset.csv')\n",
    "\n",
    "\n",
    "if DATASET_DIRECTORY_PATH.is_dir():\n",
    "    print('[✅] Dataset Directory Exists')\n",
    "else:\n",
    "    print('[~] Creating Dataset Directory')\n",
    "    DATASET_DIRECTORY_PATH.mkdir(parents=True, exist_ok=True)\n",
    "\n",
    "if DATASET_NORMALIZED_DIRECTORY_PATH.is_dir():\n",
    "    print('[✅] Normalized Dataset Directory Exists')\n",
    "else:\n",
    "    print('[~] Creating Normalized Dataset Directory')\n",
    "    DATASET_NORMALIZED_DIRECTORY_PATH.mkdir(parents=True, exist_ok=True)\n",
    "\n",
    "if DATASET_RAW_PATH.is_file():\n",
    "    print('[✅] Dataset Exists')\n",
    "else:\n",
    "    print(f'[~] Downloading Dataset')\n",
    "    urllib.request.urlretrieve(DATASET_URL, DATASET_RAW_PATH)\n",
    "\n",
    "    if DATASET_RAW_PATH.is_file():\n",
    "        print(f'[✅] Dataset Available at {DATASET_RAW_PATH}')\n",
    "    else:\n",
    "        print('[⚠️] Failed to Download Dataset')\n",
    "        raise SystemExit('Dataset Download Failure')"
   ]
  },
  {
   "cell_type": "markdown",
   "metadata": {},
   "source": [
    "Now, lets figure out our caching situation."
   ]
  },
  {
   "cell_type": "code",
   "execution_count": 17,
   "metadata": {},
   "outputs": [],
   "source": [
    "effective_cache_path: pathlib.Path = None\n",
    "if NORMALIZATION_VERSION is None:\n",
    "    # Figure out the next normalization version...\n",
    "    i = 0\n",
    "    while True:\n",
    "        proposed_path = DATASET_NORMALIZED_DIRECTORY_PATH.joinpath(f'{i}.csv')\n",
    "        if not proposed_path.exists():\n",
    "            effective_cache_path = proposed_path\n",
    "            break\n",
    "\n",
    "        i += 1\n",
    "else:\n",
    "    effective_cache_path = DATASET_NORMALIZED_DIRECTORY_PATH.joinpath(f'{int(NORMALIZATION_VERSION)}.csv')"
   ]
  },
  {
   "cell_type": "markdown",
   "metadata": {},
   "source": [
    "Caching path has been figured out! Time to actually normalize..."
   ]
  },
  {
   "cell_type": "code",
   "execution_count": 18,
   "metadata": {},
   "outputs": [],
   "source": [
    "import pandas as pd\n",
    "\n",
    "def preprocess(path):\n",
    "    df = pd.read_csv(path)\n",
    "\n",
    "    return df"
   ]
  },
  {
   "cell_type": "code",
   "execution_count": 20,
   "metadata": {},
   "outputs": [
    {
     "name": "stdout",
     "output_type": "stream",
     "text": [
      "           Class Method Host-Header  Connection  \\\n",
      "0      Anomalous    GET    HTTP/1.0     invalid   \n",
      "1      Anomalous    PUT    HTTP/1.0       close   \n",
      "2      Anomalous   POST    HTTP/1.0       close   \n",
      "3      Anomalous    GET    HTTP/1.0       close   \n",
      "4      Anomalous    GET    HTTP/1.1       close   \n",
      "...          ...    ...         ...         ...   \n",
      "84952      Valid    GET    HTTP/1.0       close   \n",
      "84953      Valid    PUT    HTTP/1.1       close   \n",
      "84954      Valid    GET    HTTP/1.1  keep-alive   \n",
      "84955      Valid    GET    HTTP/1.1  keep-alive   \n",
      "84956      Valid    GET    HTTP/1.1  keep-alive   \n",
      "\n",
      "                                      Accept  \\\n",
      "0               audio/*;q=0.7, audio/*;q=0.0   \n",
      "1                  image/*, image/jpeg;q=0.1   \n",
      "2      audio/*, audio/basic, text/html;q=0.4   \n",
      "3                                  */*;q=0.3   \n",
      "4                                        */*   \n",
      "...                                      ...   \n",
      "84952            application/*;q=0.5, text/*   \n",
      "84953                                    */*   \n",
      "84954           image/*;q=0.3, image/*;q=0.4   \n",
      "84955    video/*, image/*, application/x-tar   \n",
      "84956                                    */*   \n",
      "\n",
      "                                          Accept-Charset Accept-Language  \\\n",
      "0                                                *;q=0.6         *;q=0.3   \n",
      "1          x-mac-greek;q=0.9, euc-cn, x-mac-greek, utf-7               *   \n",
      "2                                                      *    non-standard   \n",
      "3                       x-mac-japanese;q=0.2, iso-8859-3               *   \n",
      "4                                                      *    non-standard   \n",
      "...                                                  ...             ...   \n",
      "84952                                       windows-1255    non-standard   \n",
      "84953  iso-2022-jp;q=0.9, koi8, shift_jis;q=0.8, iso-...    non-standard   \n",
      "84954                                 x-mac-korean;q=0.7    non-standard   \n",
      "84955                           utf-8;q=0.3, utf-8;q=0.4    non-standard   \n",
      "84956                                            *;q=0.2    non-standard   \n",
      "\n",
      "      Cache-control    Pragma  \\\n",
      "0           invalid       NaN   \n",
      "1           invalid  no-cache   \n",
      "2           invalid  no-cache   \n",
      "3           invalid  no-cache   \n",
      "4           invalid  no-cache   \n",
      "...             ...       ...   \n",
      "84952           NaN  no-cache   \n",
      "84953           NaN  no-cache   \n",
      "84954           NaN   invalid   \n",
      "84955           NaN   invalid   \n",
      "84956           NaN   invalid   \n",
      "\n",
      "                                              User-Agent  \\\n",
      "0      Mozilla/9.9 (X11; U; Unix 0.4; el-1y; rv:6.5.0...   \n",
      "1      Mozilla/9.9 (X11; U; Open BSD i586 4.2; w1-ff;...   \n",
      "2      Mozilla/9.9 (Windows; U; Windows NT 4.9; lf-wc...   \n",
      "3      Mozilla/9.9 (Windows; U; Win 9x 9.4; 0t-os; rv...   \n",
      "4      Mozilla/9.9 (Machintosh; U; PPC 8.5; in-hu; rv...   \n",
      "...                                                  ...   \n",
      "84952                                            invalid   \n",
      "84953                                            invalid   \n",
      "84954                                            invalid   \n",
      "84955                                            invalid   \n",
      "84956                                            invalid   \n",
      "\n",
      "                            Content-Type  \\\n",
      "0                                    NaN   \n",
      "1      application/x-www-form-urlencoded   \n",
      "2      application/x-www-form-urlencoded   \n",
      "3                                    NaN   \n",
      "4                                    NaN   \n",
      "...                                  ...   \n",
      "84952                                NaN   \n",
      "84953  application/x-www-form-urlencoded   \n",
      "84954                                NaN   \n",
      "84955                                NaN   \n",
      "84956                                NaN   \n",
      "\n",
      "                                               POST-Data  \\\n",
      "0                                                    NaN   \n",
      "1      tcy0wLnt7sw=lTWFH@dvrU&zUEX8MFk=htaccesonDonin...   \n",
      "2                                                    NaN   \n",
      "3                                                    NaN   \n",
      "4                                                    NaN   \n",
      "...                                                  ...   \n",
      "84952                                                NaN   \n",
      "84953  lYVd1L2eincludenK=56&EbvGT=9078475&edftegaG6Ow...   \n",
      "84954                                                NaN   \n",
      "84955                                                NaN   \n",
      "84956                                                NaN   \n",
      "\n",
      "                                               GET-Query  \n",
      "0      NT0cDJacceptnfOF=138695082&wcatUzz=dmH_g&t1lTs...  \n",
      "1                                                    NaN  \n",
      "2                                                    NaN  \n",
      "3      imgbo-K@xZdW=tnpp&QVc@=8Ehto&EaEEtEgdis=thxoo8...  \n",
      "4      beqqeAoaUeLxen=%22%29%28targetfilter%3D%28o%3D...  \n",
      "...                                                  ...  \n",
      "84952                                                NaN  \n",
      "84953                                                NaN  \n",
      "84954  zsnd0edcIssro=00445431&o2d=bStgeseuew0U%5Dm%40...  \n",
      "84955            kesRt=leodn%25&daeAzrero=5&shavingI0=sr  \n",
      "84956  lSuhsz=%3Cneuad&Sl@.hBS=u9perlluue%29%40iframe...  \n",
      "\n",
      "[84957 rows x 13 columns]\n"
     ]
    }
   ],
   "source": [
    "data: pd.DataFrame = None\n",
    "if effective_cache_path.is_file():\n",
    "    data = pd.read_csv(effective_cache_path)\n",
    "else:\n",
    "    # We're going to need to do some pre-processing!\n",
    "    data = preprocess(DATASET_RAW_PATH)\n",
    "    pd.to_csv(effective_cache_path)"
   ]
  }
 ],
 "metadata": {
  "kernelspec": {
   "display_name": "Python 3",
   "language": "python",
   "name": "python3"
  },
  "language_info": {
   "codemirror_mode": {
    "name": "ipython",
    "version": 3
   },
   "file_extension": ".py",
   "mimetype": "text/x-python",
   "name": "python",
   "nbconvert_exporter": "python",
   "pygments_lexer": "ipython3",
   "version": "3.11.6"
  }
 },
 "nbformat": 4,
 "nbformat_minor": 2
}
