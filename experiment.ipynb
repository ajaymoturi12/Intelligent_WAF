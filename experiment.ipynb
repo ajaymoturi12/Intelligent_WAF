{
 "cells": [
  {
   "cell_type": "markdown",
   "metadata": {},
   "source": [
    "Intelligent Web Application Firewall\n",
    "===================================="
   ]
  },
  {
   "cell_type": "markdown",
   "metadata": {},
   "source": [
    "# Initial Setup"
   ]
  },
  {
   "cell_type": "markdown",
   "metadata": {},
   "source": [
    "## Download Data\n",
    "If the dataset already exists, this will in effect do nothing. Else, it will create the dataset directory and download the dataset from the [Systems and Networking Group at UC San Diego](https://www.sysnet.ucsd.edu/projects/url/)."
   ]
  },
  {
   "cell_type": "code",
   "execution_count": 30,
   "metadata": {},
   "outputs": [
    {
     "name": "stdout",
     "output_type": "stream",
     "text": [
      "[✅] Dataset Directory Exists\n",
      "[✅] Dataset Raw File Exists\n"
     ]
    }
   ],
   "source": [
    "import pathlib\n",
    "import urllib.request\n",
    "\n",
    "DATASET_URL = 'https://www.sysnet.ucsd.edu/projects/url/url.mat'\n",
    "\n",
    "DATASET_DIRECTORY_PATH = pathlib.Path('dataset')\n",
    "DATASET_NORMALIZED_PATH = DATASET_DIRECTORY_PATH.joinpath('url.npz')\n",
    "FEATURE_TYPES_PATH = DATASET_DIRECTORY_PATH.joinpath('feature-types.npz')\n",
    "DATASET_RAW_PATH = DATASET_DIRECTORY_PATH.joinpath('url.mat')\n",
    "\n",
    "if DATASET_DIRECTORY_PATH.is_dir():\n",
    "    print('[✅] Dataset Directory Exists')\n",
    "else:\n",
    "    print('[~] Creating Dataset Directory')\n",
    "    DATASET_DIRECTORY_PATH.mkdir(parents=True, exist_ok=True)\n",
    "\n",
    "if DATASET_NORMALIZED_PATH.is_file():\n",
    "    print('[✅] Dataset Normalized Directory Exists')\n",
    "elif DATASET_RAW_PATH.is_file():\n",
    "    print('[✅] Dataset Raw File Exists')\n",
    "else:\n",
    "    print(f'[~] Creating Dataset File')\n",
    "    urllib.request.urlretrieve(DATASET_URL, DATASET_RAW_PATH)"
   ]
  },
  {
   "cell_type": "markdown",
   "metadata": {},
   "source": [
    "## Load Data\n",
    "Since the data is stored as a MATLAB save, we'll need to load it. We should also try to make it easier for ourselves later."
   ]
  },
  {
   "cell_type": "code",
   "execution_count": 45,
   "metadata": {},
   "outputs": [
    {
     "name": "stdout",
     "output_type": "stream",
     "text": [
      "[✅] Using Saved Normalized Day Data\n",
      "[✅] Using Saved Feature Types Data\n"
     ]
    }
   ],
   "source": [
    "from scipy.io import loadmat\n",
    "import numpy as np\n",
    "\n",
    "if not DATASET_NORMALIZED_PATH.is_file() or not FEATURE_TYPES_PATH.is_file():\n",
    "    print('[~] Loading Data from MATLAB')\n",
    "    dataset = loadmat(DATASET_RAW_PATH)\n",
    "\n",
    "if DATASET_NORMALIZED_PATH.is_file():\n",
    "    print('[✅] Using Saved Normalized Day Data')\n",
    "    days = np.load(DATASET_NORMALIZED_PATH, allow_pickle=True)['arr_0']\n",
    "else:\n",
    "    print('[~] Extracting and Saving Day Data')\n",
    "    days = list()\n",
    "    for key in dataset.keys():\n",
    "        if key.startswith('Day'):\n",
    "            days.append(dataset.get(key))\n",
    "\n",
    "    np.savez(DATASET_NORMALIZED_PATH, np.array(days))\n",
    "\n",
    "if FEATURE_TYPES_PATH.is_file():\n",
    "    print('[✅] Using Saved Feature Types Data')\n",
    "    feature_types = np.load(FEATURE_TYPES_PATH)['arr_0']\n",
    "else:\n",
    "    print('[~] Creating Feature Types Save')\n",
    "\n",
    "    feature_types = dataset.get('FeatureTypes')\n",
    "    np.savez(FEATURE_TYPES_PATH, feature_types)"
   ]
  },
  {
   "cell_type": "markdown",
   "metadata": {},
   "source": [
    "## Analyze Data"
   ]
  },
  {
   "cell_type": "code",
   "execution_count": 53,
   "metadata": {},
   "outputs": [
    {
     "name": "stdout",
     "output_type": "stream",
     "text": [
      "Days: 121\n"
     ]
    }
   ],
   "source": [
    "print('Days:', days.shape[0])"
   ]
  }
 ],
 "metadata": {
  "kernelspec": {
   "display_name": "Python 3",
   "language": "python",
   "name": "python3"
  },
  "language_info": {
   "codemirror_mode": {
    "name": "ipython",
    "version": 3
   },
   "file_extension": ".py",
   "mimetype": "text/x-python",
   "name": "python",
   "nbconvert_exporter": "python",
   "pygments_lexer": "ipython3",
   "version": "3.11.6"
  }
 },
 "nbformat": 4,
 "nbformat_minor": 2
}
